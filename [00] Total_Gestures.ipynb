{
 "cells": [
  {
   "cell_type": "code",
   "execution_count": 1,
   "metadata": {},
   "outputs": [],
   "source": [
    "import os\n",
    "import numpy as np"
   ]
  },
  {
   "cell_type": "code",
   "execution_count": 2,
   "metadata": {},
   "outputs": [],
   "source": [
    "video_directory = r'TRAIN_2'"
   ]
  },
  {
   "cell_type": "code",
   "execution_count": 3,
   "metadata": {},
   "outputs": [
    {
     "name": "stdout",
     "output_type": "stream",
     "text": [
      "Total Gestures:  101\n",
      "['abang' 'ada' 'adik_lelaki' 'adik_perempuan' 'air' 'ambil' 'anak' 'apa'\n",
      " 'arah' 'awak' 'ayah' 'baca' 'bagaimana' 'baik' 'baik2' 'bas' 'bawa'\n",
      " 'belajar' 'beli' 'berapa' 'berjalan' 'berlari' 'bila' 'bola' 'boleh'\n",
      " 'bomba' 'buang' 'buat' 'cuaca' 'curi' 'dapat' 'dari' 'datuk' 'duit'\n",
      " 'esok' 'gambar' 'hari' 'hilang' 'hospital' 'hujan' 'ibu' 'jahat' 'jalan'\n",
      " 'jam' 'jangan' 'jumpa' 'kacau' 'kafeteria' 'kakak' 'kedai' 'keluarga'\n",
      " 'kereta' 'kereta_api' 'khabar_baik' 'lelaki' 'lupa' 'makan' 'mana'\n",
      " 'marah' 'marah2' 'mari' 'mari2' 'masa' 'masalah' 'menyakitkan' 'minum'\n",
      " 'mohon' 'mohon2' 'nama' 'nasi' 'nasi_lemak' 'nenek' 'panas' 'panas2'\n",
      " 'pandai' 'pandai2' 'payung' 'pen' 'pensil' 'perempuan' 'pergi2'\n",
      " 'perlahan' 'perlahan2' 'pinjam' 'polis' 'ribut' 'sampai' 'saudara' 'saya'\n",
      " 'sejuk' 'sekolah' 'selamat_pagi' 'siapa' 'suka' 'tandas' 'tanya'\n",
      " 'teh_tarik' 'terima_kasih' 'tidur' 'tolong' 'waalaikumssalam']\n"
     ]
    }
   ],
   "source": [
    "# Get all file names in the directory\n",
    "gestures_files = os.listdir(video_directory)\n",
    "\n",
    "gesture_folder = np.array(gestures_files)\n",
    "print('Total Gestures: ', len(gesture_folder))\n",
    "print(gesture_folder)"
   ]
  },
  {
   "cell_type": "code",
   "execution_count": 5,
   "metadata": {},
   "outputs": [
    {
     "name": "stdout",
     "output_type": "stream",
     "text": [
      "Couldn't find program: 'false'\n"
     ]
    }
   ],
   "source": [
    "%%script false\n",
    "sum = 0\n",
    "\n",
    "for gestures in gesture_folder:\n",
    "    gesture = []\n",
    "\n",
    "    for fname in os.listdir(os.path.join(video_directory, gestures)):\n",
    "        path = os.path.join(video_directory, gestures, fname)\n",
    "        if os.path.isdir(path):\n",
    "            continue\n",
    "        else:\n",
    "            ges = os.path.splitext(fname)[0]\n",
    "            gesture.append(ges)\n",
    "\n",
    "    sum += len(gesture)\n",
    "\n",
    "    print(gestures, end =\" : \")        \n",
    "    print(len(gesture))\n",
    "\n",
    "print('Total Videos: ', sum)"
   ]
  },
  {
   "cell_type": "code",
   "execution_count": 6,
   "metadata": {},
   "outputs": [
    {
     "name": "stdout",
     "output_type": "stream",
     "text": [
      "abang : 68\n",
      "ada : 56\n",
      "adik_lelaki : 48\n",
      "adik_perempuan : 50\n",
      "air : 90\n",
      "ambil : 54\n",
      "anak : 126\n",
      "apa : 76\n",
      "arah : 62\n",
      "awak : 42\n",
      "ayah : 98\n",
      "baca : 72\n",
      "bagaimana : 78\n",
      "baik : 48\n",
      "baik2 : 42\n",
      "bas : 56\n",
      "bawa : 58\n",
      "belajar : 62\n",
      "beli : 42\n",
      "berapa : 68\n",
      "berjalan : 54\n",
      "berlari : 58\n",
      "bila : 70\n",
      "bola : 56\n",
      "boleh : 56\n",
      "bomba : 80\n",
      "buang : 42\n",
      "buat : 60\n",
      "cuaca : 60\n",
      "curi : 38\n",
      "dapat : 66\n",
      "dari : 72\n",
      "datuk : 58\n",
      "duit : 58\n",
      "esok : 66\n",
      "gambar : 66\n",
      "hari : 64\n",
      "hilang : 122\n",
      "hospital : 68\n",
      "hujan : 84\n",
      "ibu : 104\n",
      "jahat : 64\n",
      "jalan : 74\n",
      "jam : 56\n",
      "jangan : 52\n",
      "jumpa : 72\n",
      "kacau : 62\n",
      "kafeteria : 60\n",
      "kakak : 74\n",
      "kedai : 84\n",
      "keluarga : 74\n",
      "kereta : 48\n",
      "kereta_api : 76\n",
      "khabar_baik : 46\n",
      "lelaki : 96\n",
      "lupa : 58\n",
      "makan : 64\n",
      "mana : 98\n",
      "marah : 46\n",
      "marah2 : 40\n",
      "mari : 62\n",
      "mari2 : 26\n",
      "masa : 58\n",
      "masalah : 70\n",
      "menyakitkan : 40\n",
      "minum : 50\n",
      "mohon : 62\n",
      "mohon2 : 40\n",
      "nama : 100\n",
      "nasi : 54\n",
      "nasi_lemak : 56\n",
      "nenek : 52\n",
      "panas : 64\n",
      "panas2 : 52\n",
      "pandai : 62\n",
      "pandai2 : 54\n",
      "payung : 68\n",
      "pen : 106\n",
      "pensil : 52\n",
      "perempuan : 120\n",
      "pergi2 : 40\n",
      "perlahan : 64\n",
      "perlahan2 : 62\n",
      "pinjam : 60\n",
      "polis : 70\n",
      "ribut : 64\n",
      "sampai : 60\n",
      "saudara : 80\n",
      "saya : 68\n",
      "sejuk : 62\n",
      "sekolah : 68\n",
      "selamat_pagi : 44\n",
      "siapa : 74\n",
      "suka : 48\n",
      "tandas : 66\n",
      "tanya : 58\n",
      "teh_tarik : 44\n",
      "terima_kasih : 58\n",
      "tidur : 46\n",
      "tolong : 52\n",
      "waalaikumssalam : 88\n",
      "Total files: 6466\n"
     ]
    }
   ],
   "source": [
    "def count_subfolders(root_folder):\n",
    "    total_count = 0\n",
    "\n",
    "    for folder in os.listdir(root_folder):\n",
    "        folder_path = os.path.join(root_folder, folder)\n",
    "        \n",
    "        # Ensure it's a directory\n",
    "        if os.path.isdir(folder_path):\n",
    "            # Count the immediate subfolders\n",
    "            num_subfolders = len([d for d in os.listdir(folder_path) if os.path.isdir(os.path.join(folder_path, d))])\n",
    "\n",
    "            folder_name = os.path.basename(folder_path)\n",
    "            print(f\"{folder_name} : {num_subfolders}\")\n",
    "\n",
    "            total_count += num_subfolders\n",
    "\n",
    "    return total_count\n",
    "\n",
    "sum = count_subfolders(video_directory)\n",
    "print(f\"Total files: {sum}\")"
   ]
  }
 ],
 "metadata": {
  "kernelspec": {
   "display_name": "Python 3",
   "language": "python",
   "name": "python3"
  },
  "language_info": {
   "codemirror_mode": {
    "name": "ipython",
    "version": 3
   },
   "file_extension": ".py",
   "mimetype": "text/x-python",
   "name": "python",
   "nbconvert_exporter": "python",
   "pygments_lexer": "ipython3",
   "version": "3.10.14"
  }
 },
 "nbformat": 4,
 "nbformat_minor": 2
}
