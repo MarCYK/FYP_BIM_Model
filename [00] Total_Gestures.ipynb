{
 "cells": [
  {
   "cell_type": "code",
   "execution_count": 1,
   "metadata": {},
   "outputs": [],
   "source": [
    "import os\n",
    "import numpy as np"
   ]
  },
  {
   "cell_type": "code",
   "execution_count": 23,
   "metadata": {},
   "outputs": [],
   "source": [
    "video_directory = r'TRAIN_5'"
   ]
  },
  {
   "cell_type": "code",
   "execution_count": 24,
   "metadata": {},
   "outputs": [
    {
     "name": "stdout",
     "output_type": "stream",
     "text": [
      "Total Gestures:  107\n",
      "['abang' 'ada' 'adik_lelaki' 'adik_perempuan' 'air' 'ambil' 'anak' 'apa'\n",
      " 'arah' 'awak' 'ayah' 'baca' 'bagaimana' 'baik' 'baik2' 'bas' 'bawa'\n",
      " 'belajar' 'beli' 'beli2' 'berapa' 'berjalan' 'berlari' 'bila' 'bola'\n",
      " 'boleh' 'bomba' 'buang' 'buat' 'cuaca' 'curi' 'dapat' 'dari' 'datuk'\n",
      " 'duit' 'esok' 'gambar' 'hari' 'hilang' 'hospital' 'hujan' 'ibu' 'jahat'\n",
      " 'jalan' 'jam' 'jangan' 'jumpa' 'kacau' 'kafeteria' 'kakak' 'kedai'\n",
      " 'keluarga' 'kereta' 'kereta_api' 'khabar_baik' 'lelaki' 'lupa' 'main'\n",
      " 'makan' 'mana' 'marah' 'marah2' 'mari' 'mari2' 'masa' 'masalah'\n",
      " 'menyakitkan' 'minum' 'mohon' 'mohon2' 'nama' 'nasi' 'nasi_lemak' 'nenek'\n",
      " 'panas' 'panas2' 'pandai' 'pandai2' 'payung' 'pen' 'pensil' 'perempuan'\n",
      " 'pergi' 'pergi2' 'perlahan' 'perlahan2' 'polis' 'pukul' 'ribut' 'sampai'\n",
      " 'saudara' 'saya' 'sejuk' 'sekolah' 'selamat_pagi' 'siapa' 'sudah' 'suka'\n",
      " 'tandas' 'tanya' 'teh_tarik' 'teksi' 'terima_kasih' 'tidur' 'tolong'\n",
      " 'tolong2' 'waalaikumssalam']\n"
     ]
    }
   ],
   "source": [
    "# Get all file names in the directory\n",
    "gestures_files = os.listdir(video_directory)\n",
    "\n",
    "gesture_folder = np.array(gestures_files)\n",
    "print('Total Gestures: ', len(gesture_folder))\n",
    "print(gesture_folder)"
   ]
  },
  {
   "cell_type": "code",
   "execution_count": 5,
   "metadata": {},
   "outputs": [
    {
     "name": "stdout",
     "output_type": "stream",
     "text": [
      "Couldn't find program: 'false'\n"
     ]
    }
   ],
   "source": [
    "%%script false\n",
    "sum = 0\n",
    "\n",
    "for gestures in gesture_folder:\n",
    "    gesture = []\n",
    "\n",
    "    for fname in os.listdir(os.path.join(video_directory, gestures)):\n",
    "        path = os.path.join(video_directory, gestures, fname)\n",
    "        if os.path.isdir(path):\n",
    "            continue\n",
    "        else:\n",
    "            ges = os.path.splitext(fname)[0]\n",
    "            gesture.append(ges)\n",
    "\n",
    "    sum += len(gesture)\n",
    "\n",
    "    print(gestures, end =\" : \")        \n",
    "    print(len(gesture))\n",
    "\n",
    "print('Total Videos: ', sum)"
   ]
  },
  {
   "cell_type": "code",
   "execution_count": 26,
   "metadata": {},
   "outputs": [
    {
     "name": "stdout",
     "output_type": "stream",
     "text": [
      "abang : 68 files\n",
      "ada : 62 files\n",
      "adik_lelaki : 62 files\n",
      "adik_perempuan : 62 files\n",
      "air : 80 files\n",
      "ambil : 62 files\n",
      "anak : 80 files\n",
      "apa : 76 files\n",
      "arah : 62 files\n",
      "awak : 62 files\n",
      "ayah : 80 files\n",
      "baca : 72 files\n",
      "bagaimana : 78 files\n",
      "baik : 62 files\n",
      "baik2 : 62 files\n",
      "bas : 62 files\n",
      "bawa : 62 files\n",
      "belajar : 62 files\n",
      "beli : 62 files\n",
      "beli2 : 62 files\n",
      "berapa : 68 files\n",
      "berjalan : 62 files\n",
      "berlari : 62 files\n",
      "bila : 70 files\n",
      "bola : 62 files\n",
      "boleh : 62 files\n",
      "bomba : 80 files\n",
      "buang : 62 files\n",
      "buat : 62 files\n",
      "cuaca : 62 files\n",
      "curi : 62 files\n",
      "dapat : 66 files\n",
      "dari : 72 files\n",
      "datuk : 62 files\n",
      "duit : 62 files\n",
      "esok : 66 files\n",
      "gambar : 66 files\n",
      "hari : 62 files\n",
      "hilang : 80 files\n",
      "hospital : 62 files\n",
      "hujan : 80 files\n",
      "ibu : 80 files\n",
      "jahat : 64 files\n",
      "jalan : 74 files\n",
      "jam : 62 files\n",
      "jangan : 62 files\n",
      "jumpa : 72 files\n",
      "kacau : 62 files\n",
      "kafeteria : 62 files\n",
      "kakak : 74 files\n",
      "kedai : 80 files\n",
      "keluarga : 74 files\n",
      "kereta : 62 files\n",
      "kereta_api : 76 files\n",
      "khabar_baik : 62 files\n",
      "lelaki : 80 files\n",
      "lupa : 62 files\n",
      "main : 62 files\n",
      "makan : 64 files\n",
      "mana : 80 files\n",
      "marah : 62 files\n",
      "marah2 : 62 files\n",
      "mari : 62 files\n",
      "mari2 : 62 files\n",
      "masa : 62 files\n",
      "masalah : 70 files\n",
      "menyakitkan : 62 files\n",
      "minum : 62 files\n",
      "mohon : 62 files\n",
      "mohon2 : 62 files\n",
      "nama : 80 files\n",
      "nasi : 62 files\n",
      "nasi_lemak : 62 files\n",
      "nenek : 62 files\n",
      "panas : 64 files\n",
      "panas2 : 62 files\n",
      "pandai : 62 files\n",
      "pandai2 : 62 files\n",
      "payung : 68 files\n",
      "pen : 80 files\n",
      "pensil : 62 files\n",
      "perempuan : 80 files\n",
      "pergi : 62 files\n",
      "pergi2 : 62 files\n",
      "perlahan : 64 files\n",
      "perlahan2 : 62 files\n",
      "polis : 70 files\n",
      "pukul : 62 files\n",
      "ribut : 64 files\n",
      "sampai : 62 files\n",
      "saudara : 78 files\n",
      "saya : 66 files\n",
      "sejuk : 62 files\n",
      "sekolah : 64 files\n",
      "selamat_pagi : 62 files\n",
      "siapa : 74 files\n",
      "sudah : 62 files\n",
      "suka : 62 files\n",
      "tandas : 66 files\n",
      "tanya : 62 files\n",
      "teh_tarik : 62 files\n",
      "teksi : 62 files\n",
      "terima_kasih : 62 files\n",
      "tidur : 62 files\n",
      "tolong : 62 files\n",
      "tolong2 : 62 files\n",
      "waalaikumssalam : 80 files\n",
      "Total files: 7098\n"
     ]
    }
   ],
   "source": [
    "def count_subfolders(root_folder):\n",
    "    total_count = 0\n",
    "\n",
    "    for folder in os.listdir(root_folder):\n",
    "        folder_path = os.path.join(root_folder, folder)\n",
    "        \n",
    "        # Ensure it's a directory\n",
    "        if os.path.isdir(folder_path):\n",
    "            # Count the immediate subfolders\n",
    "            num_subfolders = len([d for d in os.listdir(folder_path) if os.path.isdir(os.path.join(folder_path, d))])\n",
    "\n",
    "            folder_name = os.path.basename(folder_path)\n",
    "            print(f\"{folder_name} : {num_subfolders} files\")\n",
    "\n",
    "            total_count += num_subfolders\n",
    "\n",
    "    return total_count\n",
    "\n",
    "sum = count_subfolders(video_directory)\n",
    "print(f\"Total files: {sum}\")"
   ]
  }
 ],
 "metadata": {
  "kernelspec": {
   "display_name": "Python 3",
   "language": "python",
   "name": "python3"
  },
  "language_info": {
   "codemirror_mode": {
    "name": "ipython",
    "version": 3
   },
   "file_extension": ".py",
   "mimetype": "text/x-python",
   "name": "python",
   "nbconvert_exporter": "python",
   "pygments_lexer": "ipython3",
   "version": "3.10.14"
  }
 },
 "nbformat": 4,
 "nbformat_minor": 2
}
