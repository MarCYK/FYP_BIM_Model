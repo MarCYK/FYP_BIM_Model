{
 "cells": [
  {
   "cell_type": "markdown",
   "metadata": {},
   "source": [
    "### Creating Gifs (Debugging)"
   ]
  },
  {
   "cell_type": "code",
   "execution_count": 1,
   "metadata": {},
   "outputs": [],
   "source": [
    "import matplotlib.pyplot as plt\n",
    "import numpy as np\n",
    "import os\n",
    "from PIL import Image"
   ]
  },
  {
   "cell_type": "markdown",
   "metadata": {},
   "source": [
    "##### Single Frame"
   ]
  },
  {
   "cell_type": "code",
   "execution_count": 2,
   "metadata": {},
   "outputs": [],
   "source": [
    "def plot_keypoints(keypoints, title):\n",
    "    # Separate pose, left hand, and right hand keypoints based on sizes\n",
    "    pose = keypoints[:33 * 4].reshape(-1, 4)        # 33 keypoints, each with [x, y, z, visibility]\n",
    "    left_hand = keypoints[33 * 4:33 * 4 + 21 * 3].reshape(-1, 3)  # 21 keypoints for left hand, each with [x, y, z]\n",
    "    right_hand = keypoints[33 * 4 + 21 * 3:].reshape(-1, 3)       # 21 keypoints for right hand, each with [x, y, z]\n",
    "\n",
    "    # Define connections (edges) between keypoints for pose, left hand, and right hand\n",
    "    # These connections are based on a standard pose model, such as MediaPipe's Pose model.\n",
    "    pose_connections = [\n",
    "        (0, 1), (1, 2), (2, 3), (3, 7), (0, 4), (4, 5), (5, 6), (6, 8), (9, 10),\n",
    "        (11, 12), (11, 13), (13, 15), (15, 17), (15, 19), (15, 21), (17, 19),\n",
    "        (12, 14), (14, 16), (16, 18), (16, 20), (16, 22), (18, 20), (23, 24),\n",
    "        (23, 25), (24, 26), (25, 27), (26, 28), (27, 29), (28, 30), (29, 31), (30, 32)\n",
    "    ]\n",
    "\n",
    "    hand_connections = [\n",
    "        (0, 1), (1, 2), (2, 3), (3, 4), # Thumb\n",
    "        (0, 5), (5, 6), (6, 7), (7, 8), # Index finger\n",
    "        (0, 9), (9, 10), (10, 11), (11, 12), # Middle finger\n",
    "        (0, 13), (13, 14), (14, 15), (15, 16), # Ring finger\n",
    "        (0, 17), (17, 18), (18, 19), (19, 20) # Pinky\n",
    "    ]\n",
    "\n",
    "    # Plot keypoints with connections\n",
    "    plt.figure(figsize=(4.8, 2.7))\n",
    "    plt.axis([0, 1.125, 0, 2])\n",
    "\n",
    "    # Plot pose keypoints and connections\n",
    "    for (start, end) in pose_connections:\n",
    "        plt.plot([pose[start, 0], pose[end, 0]], [pose[start, 1], pose[end, 1]], 'k-', lw=2)\n",
    "    plt.scatter(pose[:, 0], pose[:, 1], label='Pose', s=20, alpha=0.7)\n",
    "\n",
    "    # Plot left hand keypoints and connections\n",
    "    for (start, end) in hand_connections:\n",
    "        plt.plot([left_hand[start, 0], left_hand[end, 0]], [left_hand[start, 1], left_hand[end, 1]], 'b-', lw=2)\n",
    "    plt.scatter(left_hand[:, 0], left_hand[:, 1], label='Left Hand', s=20, alpha=0.7)\n",
    "\n",
    "    # Plot right hand keypoints and connections\n",
    "    for (start, end) in hand_connections:\n",
    "        plt.plot([right_hand[start, 0], right_hand[end, 0]], [right_hand[start, 1], right_hand[end, 1]], 'r-', lw=2)\n",
    "    plt.scatter(right_hand[:, 0], right_hand[:, 1], label='Right Hand', s=20, alpha=0.7)\n",
    "\n",
    "    # Adjust plot settings\n",
    "    plt.title(title)\n",
    "    plt.legend()\n",
    "    # Adjust plot settings\n",
    "    plt.legend()\n",
    "    ax = plt.gca()\n",
    "    leg = ax.get_legend()\n",
    "    leg.legend_handles[0].set_color('black')\n",
    "    leg.legend_handles[1].set_color('blue')\n",
    "    leg.legend_handles[2].set_color('red')\n",
    "    plt.axis('off')\n",
    "    plt.gca().invert_yaxis()  # Invert Y axis for typical image coordinates\n",
    "    plt.show()"
   ]
  },
  {
   "cell_type": "code",
   "execution_count": 3,
   "metadata": {},
   "outputs": [],
   "source": [
    "def visualize_interpolation(gesture, video_num, frame_num):\n",
    "    \"\"\"\n",
    "    Visualize the original and interpolated keypoints for a specific frame in a video.\n",
    "    \n",
    "    Parameters:\n",
    "    gesture (str): Name of the gesture.\n",
    "    video_num (int): Number of the video.\n",
    "    frame_num (int): Number of the frame to visualize.\n",
    "    \"\"\"\n",
    "    # Load original and interpolated keypoints\n",
    "    npy_file = f'{frame_num}.npy'\n",
    "    keypoints = np.load(os.path.join(video_directory, gesture, f'{video_num:02}', 'landmarks', npy_file))\n",
    "    keypoints_interpolated = np.load(os.path.join(video_directory, gesture, f'{video_num:02}', 'interpolated_landmarks', npy_file))\n",
    "    # keypoints_flipped = np.load(os.path.join(video_directory, gesture, f'{video_num:02}', 'flipped', npy_file))\n",
    "\n",
    "    # Plot original and interpolated keypoints\n",
    "    plot_keypoints(keypoints, title='Original Keypoints')\n",
    "    plot_keypoints(keypoints_interpolated, title='Interpolated Keypoints')\n",
    "    # plot_keypoints(keypoints_flipped, title='Flipped')"
   ]
  },
  {
   "cell_type": "code",
   "execution_count": 4,
   "metadata": {},
   "outputs": [
    {
     "name": "stdout",
     "output_type": "stream",
     "text": [
      "Couldn't find program: 'false'\n"
     ]
    }
   ],
   "source": [
    "%%script false --no-raise-error\n",
    "\n",
    "video_directory = r'temp'\n",
    "visualize_interpolation('berapa', 28, 30)"
   ]
  },
  {
   "cell_type": "markdown",
   "metadata": {},
   "source": [
    "##### Gif Creation"
   ]
  },
  {
   "cell_type": "code",
   "execution_count": 2,
   "metadata": {},
   "outputs": [],
   "source": [
    "def visualize_keypoints_to_image(keypoints):\n",
    "    # Separate pose, left hand, and right hand keypoints based on sizes\n",
    "    pose = keypoints[:33 * 4].reshape(-1, 4)        # 33 keypoints, each with [x, y, z, visibility]\n",
    "    left_hand = keypoints[33 * 4:33 * 4 + 21 * 3].reshape(-1, 3)  # 21 keypoints for left hand, each with [x, y, z]\n",
    "    right_hand = keypoints[33 * 4 + 21 * 3:].reshape(-1, 3)       # 21 keypoints for right hand, each with [x, y, z]\n",
    "\n",
    "    # Define connections (edges) between keypoints for pose, left hand, and right hand\n",
    "    # These connections are based on a standard pose model, such as MediaPipe's Pose model.\n",
    "    pose_connections = [\n",
    "        (0, 1), (1, 2), (2, 3), (3, 7), (0, 4), (4, 5), (5, 6), (6, 8), (9, 10),\n",
    "        (11, 12), (11, 13), (13, 15), (15, 17), (15, 19), (15, 21), (17, 19),\n",
    "        (12, 14), (14, 16), (16, 18), (16, 20), (16, 22), (18, 20), (23, 24),\n",
    "        (23, 25), (24, 26), (25, 27), (26, 28), (27, 29), (28, 30), (29, 31), (30, 32)\n",
    "    ]\n",
    "\n",
    "    hand_connections = [\n",
    "        (0, 1), (1, 2), (2, 3), (3, 4), # Thumb\n",
    "        (0, 5), (5, 6), (6, 7), (7, 8), # Index finger\n",
    "        (0, 9), (9, 10), (10, 11), (11, 12), # Middle finger\n",
    "        (0, 13), (13, 14), (14, 15), (15, 16), # Ring finger\n",
    "        (0, 17), (17, 18), (18, 19), (19, 20) # Pinky\n",
    "    ]\n",
    "\n",
    "        # Plot keypoints with connections\n",
    "    fig, ax = plt.subplots(figsize=(19.2, 10.8))\n",
    "    plt.axis([0, 1.125, 0, 2])\n",
    "\n",
    "    # Plot pose keypoints and connections\n",
    "    for (start, end) in pose_connections:\n",
    "        plt.plot([pose[start, 0], pose[end, 0]], [pose[start, 1], pose[end, 1]], 'k-', lw=2)\n",
    "    ax.scatter(pose[:, 0], pose[:, 1], label='Pose', s=20, alpha=0.7)\n",
    "\n",
    "    # Plot left hand keypoints and connections\n",
    "    for (start, end) in hand_connections:\n",
    "        plt.plot([left_hand[start, 0], left_hand[end, 0]], [left_hand[start, 1], left_hand[end, 1]], 'b-', lw=2)\n",
    "    ax.scatter(left_hand[:, 0], left_hand[:, 1], label='Left Hand', s=20, alpha=0.7)\n",
    "\n",
    "    # Plot right hand keypoints and connections\n",
    "    for (start, end) in hand_connections:\n",
    "        plt.plot([right_hand[start, 0], right_hand[end, 0]], [right_hand[start, 1], right_hand[end, 1]], 'r-', lw=2)\n",
    "    ax.scatter(right_hand[:, 0], right_hand[:, 1], label='Right Hand', s=20, alpha=0.7)\n",
    "\n",
    "    # Adjust plot settings\n",
    "    ax.legend()\n",
    "    ax = plt.gca()\n",
    "    leg = ax.get_legend()\n",
    "    leg.legend_handles[0].set_color('black')\n",
    "    leg.legend_handles[1].set_color('blue')\n",
    "    leg.legend_handles[2].set_color('red')\n",
    "    ax.axis('off')\n",
    "    ax.invert_yaxis()  # Invert Y axis for typical image coordinates\n",
    "\n",
    "    fig.canvas.draw()\n",
    "    image = Image.frombytes('RGB', fig.canvas.get_width_height(), fig.canvas.tostring_rgb())\n",
    "    plt.close(fig)\n",
    "\n",
    "    return image\n",
    "\n",
    "def create_gif_from_npy(input_folder, output_gif, duration=100):\n",
    "    # Load all .npy files in sorted order\n",
    "    npy_files = sorted([f for f in os.listdir(input_folder) if f.endswith('.npy')])\n",
    "    npy_files.sort(key=lambda f: int(''.join(filter(str.isdigit, f))))\n",
    "\n",
    "    images = []\n",
    "    for npy_file in npy_files:\n",
    "        # Load keypoints from each .npy file\n",
    "        keypoints = np.load(os.path.join(input_folder, npy_file))\n",
    "        \n",
    "        # Visualize each frame as an image (without displaying the plot)\n",
    "        image = visualize_keypoints_to_image(keypoints)\n",
    "        \n",
    "        # Add the image to the list of frames\n",
    "        images.append(image)\n",
    "    \n",
    "    # Check if the output folder exists\n",
    "    output_folder = os.path.dirname(output_gif)\n",
    "    if not os.path.exists(output_folder):\n",
    "        os.makedirs(output_folder)\n",
    "\n",
    "    # Create and save the GIF\n",
    "    images[0].save(\n",
    "        output_gif,\n",
    "        save_all=True,\n",
    "        append_images=images[1:],\n",
    "        duration=duration,\n",
    "        loop=0\n",
    "    )"
   ]
  },
  {
   "cell_type": "code",
   "execution_count": 4,
   "metadata": {},
   "outputs": [
    {
     "name": "stderr",
     "output_type": "stream",
     "text": [
      "C:\\Users\\MCYK\\AppData\\Local\\Temp\\ipykernel_21256\\1186050422.py:54: MatplotlibDeprecationWarning: The tostring_rgb function was deprecated in Matplotlib 3.8 and will be removed in 3.10. Use buffer_rgba instead.\n",
      "  image = Image.frombytes('RGB', fig.canvas.get_width_height(), fig.canvas.tostring_rgb())\n"
     ]
    }
   ],
   "source": [
    "# %%script false\n",
    "folder = 'DATASET'\n",
    "gesture = 'abang'\n",
    "file = '01'\n",
    "# create_gif_from_npy(os.path.join(folder, gesture, file, 'landmarks'), f'gif/{gesture}/{file}_landmarks.gif', duration=100)\n",
    "create_gif_from_npy(os.path.join(folder, gesture, file, 'interpolated_landmarks'), f'gif/{gesture}/{file}_Err.gif', duration=100)\n",
    "# create_gif_from_npy(os.path.join(folder, gesture, str(int(file) + 10)), f'gif/{gesture}/{file}_flipped.gif', duration=100)"
   ]
  },
  {
   "cell_type": "markdown",
   "metadata": {},
   "source": [
    "##### Normalized"
   ]
  },
  {
   "cell_type": "code",
   "execution_count": 7,
   "metadata": {},
   "outputs": [],
   "source": [
    "def visualize_norm_keypoints_to_image(keypoints):\n",
    "    # Separate pose, left hand, and right hand keypoints based on sizes\n",
    "    pose = keypoints[:33 * 4].reshape(-1, 4)        # 33 keypoints, each with [x, y, z, visibility]\n",
    "    left_hand = keypoints[33 * 4:33 * 4 + 21 * 3].reshape(-1, 3)  # 21 keypoints for left hand, each with [x, y, z]\n",
    "    right_hand = keypoints[33 * 4 + 21 * 3:].reshape(-1, 3)       # 21 keypoints for right hand, each with [x, y, z]\n",
    "\n",
    "    # Define connections (edges) between keypoints for pose, left hand, and right hand\n",
    "    # These connections are based on a standard pose model, such as MediaPipe's Pose model.\n",
    "    pose_connections = [\n",
    "        (0, 1), (1, 2), (2, 3), (3, 7), (0, 4), (4, 5), (5, 6), (6, 8), (9, 10),\n",
    "        (11, 12), (11, 13), (13, 15), (15, 17), (15, 19), (15, 21), (17, 19),\n",
    "        (12, 14), (14, 16), (16, 18), (16, 20), (16, 22), (18, 20), (23, 24),\n",
    "        (23, 25), (24, 26), (25, 27), (26, 28), (27, 29), (28, 30), (29, 31), (30, 32)\n",
    "    ]\n",
    "\n",
    "    hand_connections = [\n",
    "        (0, 1), (1, 2), (2, 3), (3, 4), # Thumb\n",
    "        (0, 5), (5, 6), (6, 7), (7, 8), # Index finger\n",
    "        (0, 9), (9, 10), (10, 11), (11, 12), # Middle finger\n",
    "        (0, 13), (13, 14), (14, 15), (15, 16), # Ring finger\n",
    "        (0, 17), (17, 18), (18, 19), (19, 20) # Pinky\n",
    "    ]\n",
    "\n",
    "        # Plot keypoints with connections\n",
    "    # fig, ax = plt.subplots(figsize=(19.2, 10.8))\n",
    "    fig, ax = plt.subplots(figsize=(4.8, 2.7))\n",
    "    plt.axis([-3, 3, -3, 3])\n",
    "\n",
    "    # Plot pose keypoints and connections\n",
    "    for (start, end) in pose_connections:\n",
    "        plt.plot([pose[start, 0], pose[end, 0]], [pose[start, 1], pose[end, 1]], 'k-', lw=2)\n",
    "    ax.scatter(pose[:, 0], pose[:, 1], label='Pose', s=20, alpha=0.7)\n",
    "\n",
    "    # Plot left hand keypoints and connections\n",
    "    for (start, end) in hand_connections:\n",
    "        plt.plot([left_hand[start, 0], left_hand[end, 0]], [left_hand[start, 1], left_hand[end, 1]], 'b-', lw=2)\n",
    "    ax.scatter(left_hand[:, 0], left_hand[:, 1], label='Left Hand', s=20, alpha=0.7)\n",
    "\n",
    "    # Plot right hand keypoints and connections\n",
    "    for (start, end) in hand_connections:\n",
    "        plt.plot([right_hand[start, 0], right_hand[end, 0]], [right_hand[start, 1], right_hand[end, 1]], 'r-', lw=2)\n",
    "    ax.scatter(right_hand[:, 0], right_hand[:, 1], label='Right Hand', s=20, alpha=0.7)\n",
    "\n",
    "    # Adjust plot settings\n",
    "    ax.legend()\n",
    "    ax = plt.gca()\n",
    "    leg = ax.get_legend()\n",
    "    leg.legend_handles[0].set_color('black')\n",
    "    leg.legend_handles[1].set_color('blue')\n",
    "    leg.legend_handles[2].set_color('red')\n",
    "    ax.axis('off')\n",
    "    ax.invert_yaxis()  # Invert Y axis for typical image coordinates\n",
    "\n",
    "    fig.canvas.draw()\n",
    "    image = Image.frombytes('RGB', fig.canvas.get_width_height(), fig.canvas.tostring_rgb())\n",
    "    plt.close(fig)\n",
    "\n",
    "    return image\n",
    "\n",
    "def create_norm_gif_from_npy(input_folder, output_gif, duration=100):\n",
    "    # Load all .npy files in sorted order\n",
    "    npy_files = sorted([f for f in os.listdir(input_folder) if f.endswith('.npy')])\n",
    "    npy_files.sort(key=lambda f: int(''.join(filter(str.isdigit, f))))\n",
    "\n",
    "    images = []\n",
    "    for npy_file in npy_files:\n",
    "        # Load keypoints from each .npy file\n",
    "        keypoints = np.load(os.path.join(input_folder, npy_file))\n",
    "        \n",
    "        # Visualize each frame as an image (without displaying the plot)\n",
    "        image = visualize_norm_keypoints_to_image(keypoints)\n",
    "        \n",
    "        # Add the image to the list of frames\n",
    "        images.append(image)\n",
    "    \n",
    "    # Check if the output folder exists\n",
    "    output_folder = os.path.dirname(output_gif)\n",
    "    if not os.path.exists(output_folder):\n",
    "        os.makedirs(output_folder)\n",
    "\n",
    "    # Create and save the GIF\n",
    "    images[0].save(\n",
    "        output_gif,\n",
    "        save_all=True,\n",
    "        append_images=images[1:],\n",
    "        duration=duration,\n",
    "        loop=0\n",
    "    )"
   ]
  },
  {
   "cell_type": "code",
   "execution_count": 8,
   "metadata": {},
   "outputs": [
    {
     "name": "stdout",
     "output_type": "stream",
     "text": [
      "Couldn't find program: 'false'\n"
     ]
    }
   ],
   "source": [
    "%%script false\n",
    "folder = 'TRAIN'\n",
    "gesture = 'anak'\n",
    "file = '13'\n",
    "# create_norm_gif_from_npy(os.path.join(folder, gesture, str(int(file) + 10)), f'gif/{gesture}/{file}_flipped.gif', duration=100)\n",
    "create_norm_gif_from_npy(os.path.join(folder, gesture, file), f'gif/{gesture}/{file}_normalized.gif', duration=100)"
   ]
  },
  {
   "cell_type": "code",
   "execution_count": 9,
   "metadata": {},
   "outputs": [
    {
     "name": "stdout",
     "output_type": "stream",
     "text": [
      "Total gestures:  24 ; Total videos:  1396\n"
     ]
    }
   ],
   "source": [
    "video_directory = 'temp'\n",
    "\n",
    "sum = 0\n",
    "\n",
    "gesture_folder = np.array(os.listdir(video_directory))\n",
    "for gestures in gesture_folder:\n",
    "    gesture = []\n",
    "\n",
    "    for fname in os.listdir(os.path.join(video_directory, gestures)):\n",
    "        path = os.path.join(video_directory, gestures, fname)\n",
    "        if os.path.isdir(path):\n",
    "            gesture.append(fname)\n",
    "\n",
    "    sum += len(gesture) \n",
    "    # print(gestures, end =\" : \")        \n",
    "    # print(len(gesture))\n",
    "\n",
    "print(\"Total gestures: \", len(gesture_folder), \"; Total videos: \", sum)"
   ]
  },
  {
   "cell_type": "code",
   "execution_count": 11,
   "metadata": {},
   "outputs": [
    {
     "name": "stderr",
     "output_type": "stream",
     "text": [
      "C:\\Users\\MCYK\\AppData\\Local\\Temp\\ipykernel_15088\\3171365109.py:55: MatplotlibDeprecationWarning: The tostring_rgb function was deprecated in Matplotlib 3.8 and will be removed in 3.10. Use buffer_rgba instead.\n",
      "  image = Image.frombytes('RGB', fig.canvas.get_width_height(), fig.canvas.tostring_rgb())\n"
     ]
    }
   ],
   "source": [
    "for gestures in gesture_folder:\n",
    "    gesture = []\n",
    "\n",
    "    for fname in os.listdir(os.path.join(video_directory, gestures)):\n",
    "        path = os.path.join(video_directory, gestures, fname)\n",
    "        if os.path.isdir(path):\n",
    "            gesture.append(fname)\n",
    "        \n",
    "    # Iterate through half of the videos in each gesture only\n",
    "    for no in gesture[:int(len(gesture)/2)]:\n",
    "        load_path = os.path.join(video_directory, gestures, no)\n",
    "        create_norm_gif_from_npy(load_path, f'gif/{gestures}/{no}_normalized.gif', duration=100)\n",
    "        "
   ]
  }
 ],
 "metadata": {
  "kernelspec": {
   "display_name": "BIM_gpu",
   "language": "python",
   "name": "python3"
  },
  "language_info": {
   "codemirror_mode": {
    "name": "ipython",
    "version": 3
   },
   "file_extension": ".py",
   "mimetype": "text/x-python",
   "name": "python",
   "nbconvert_exporter": "python",
   "pygments_lexer": "ipython3",
   "version": "3.9.18"
  }
 },
 "nbformat": 4,
 "nbformat_minor": 2
}
