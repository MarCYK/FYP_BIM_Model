{
 "cells": [
  {
   "cell_type": "markdown",
   "metadata": {},
   "source": [
    "### Verify Clip has 30 Frames"
   ]
  },
  {
   "cell_type": "code",
   "execution_count": 50,
   "metadata": {},
   "outputs": [],
   "source": [
    "import cv2\n",
    "import numpy as np\n",
    "import os"
   ]
  },
  {
   "cell_type": "markdown",
   "metadata": {},
   "source": [
    "### Specify Video Directory"
   ]
  },
  {
   "cell_type": "code",
   "execution_count": 51,
   "metadata": {},
   "outputs": [
    {
     "name": "stdout",
     "output_type": "stream",
     "text": [
      "['payung' 'ribut' 'tandas']\n"
     ]
    }
   ],
   "source": [
    "# Specify the directory path\n",
    "# video_directory = r'D:/ProgrammingProjects/FYP/Train Data'\n",
    "video_directory = r'test'\n",
    "\n",
    "# Get all file names in the directory\n",
    "gestures_files = os.listdir(video_directory)\n",
    "\n",
    "gesture_folder = np.array(gestures_files)\n",
    "print(gesture_folder)"
   ]
  },
  {
   "cell_type": "code",
   "execution_count": 52,
   "metadata": {},
   "outputs": [
    {
     "name": "stdout",
     "output_type": "stream",
     "text": [
      "payung : ['01', '02', '03', '04', '05', '06', '07', '08', '09', '10', '11', '12', '13', '14', '15', '16', '17', '18', '19', '20', '21', '22', '23', '24', '25', '26', '27', '28', '29', '30', '31', '32', '33', '34']\n",
      "ribut : ['01', '02', '03', '04', '05', '06', '07', '08', '09', '10', '11', '12', '13', '14', '15', '16', '17', '18', '19', '20', '21', '22', '23', '24', '25', '26', '27', '28', '29', '30', '31', '32']\n",
      "tandas : ['01', '02', '03', '04', '05', '06', '07', '08', '09', '10', '11', '12', '13', '14', '15', '16', '17', '18', '19', '20', '21', '22', '23', '24', '25', '26', '27', '28', '29', '30', '31', '32', '33']\n"
     ]
    }
   ],
   "source": [
    "for gestures in gesture_folder:\n",
    "    gesture = []\n",
    "\n",
    "    for fname in os.listdir(os.path.join(video_directory, gestures)):\n",
    "        path = os.path.join(video_directory, gestures, fname)\n",
    "        if os.path.isdir(path):\n",
    "            continue\n",
    "        else:\n",
    "            ges = os.path.splitext(fname)[0]\n",
    "            gesture.append(ges)\n",
    "\n",
    "    print(gestures, end =\" : \")        \n",
    "    print(gesture)"
   ]
  },
  {
   "cell_type": "code",
   "execution_count": 53,
   "metadata": {},
   "outputs": [
    {
     "name": "stdout",
     "output_type": "stream",
     "text": [
      "test\\payung\\01\\landmarks created\n",
      "test\\payung\\02\\landmarks created\n",
      "test\\payung\\03\\landmarks created\n",
      "test\\payung\\04\\landmarks created\n",
      "test\\payung\\05\\landmarks created\n",
      "test\\payung\\06\\landmarks created\n",
      "test\\payung\\07\\landmarks created\n",
      "test\\payung\\08\\landmarks created\n",
      "test\\payung\\09\\landmarks created\n",
      "test\\payung\\10\\landmarks created\n",
      "test\\payung\\11\\landmarks created\n",
      "test\\payung\\12\\landmarks created\n",
      "test\\payung\\13\\landmarks created\n",
      "test\\payung\\14\\landmarks created\n",
      "test\\payung\\15\\landmarks created\n",
      "test\\payung\\16\\landmarks created\n",
      "test\\payung\\17\\landmarks created\n",
      "test\\payung\\18\\landmarks created\n",
      "test\\payung\\19\\landmarks created\n",
      "test\\payung\\20\\landmarks created\n",
      "test\\payung\\21\\landmarks created\n",
      "test\\payung\\22\\landmarks created\n",
      "test\\payung\\23\\landmarks created\n",
      "test\\payung\\24\\landmarks created\n",
      "test\\payung\\25\\landmarks created\n",
      "test\\payung\\26\\landmarks created\n",
      "test\\payung\\27\\landmarks created\n",
      "test\\payung\\28\\landmarks created\n",
      "test\\payung\\29\\landmarks created\n",
      "test\\payung\\30\\landmarks created\n",
      "test\\payung\\31\\landmarks created\n",
      "test\\payung\\32\\landmarks created\n",
      "test\\payung\\33\\landmarks created\n",
      "test\\payung\\34\\landmarks created\n",
      "test\\ribut\\01\\landmarks created\n",
      "test\\ribut\\02\\landmarks created\n",
      "test\\ribut\\03\\landmarks created\n",
      "test\\ribut\\04\\landmarks created\n",
      "test\\ribut\\05\\landmarks created\n",
      "test\\ribut\\06\\landmarks created\n",
      "test\\ribut\\07\\landmarks created\n",
      "test\\ribut\\08\\landmarks created\n",
      "test\\ribut\\09\\landmarks created\n",
      "test\\ribut\\10\\landmarks created\n",
      "test\\ribut\\11\\landmarks created\n",
      "test\\ribut\\12\\landmarks created\n",
      "test\\ribut\\13\\landmarks created\n",
      "test\\ribut\\14\\landmarks created\n",
      "test\\ribut\\15\\landmarks created\n",
      "test\\ribut\\16\\landmarks created\n",
      "test\\ribut\\17\\landmarks created\n",
      "test\\ribut\\18\\landmarks created\n",
      "test\\ribut\\19\\landmarks created\n",
      "test\\ribut\\20\\landmarks created\n",
      "test\\ribut\\21\\landmarks created\n",
      "test\\ribut\\22\\landmarks created\n",
      "test\\ribut\\23\\landmarks created\n",
      "test\\ribut\\24\\landmarks created\n",
      "test\\ribut\\25\\landmarks created\n",
      "test\\ribut\\26\\landmarks created\n",
      "test\\ribut\\27\\landmarks created\n",
      "test\\ribut\\28\\landmarks created\n",
      "test\\ribut\\29\\landmarks created\n",
      "test\\ribut\\30\\landmarks created\n",
      "test\\ribut\\31\\landmarks created\n",
      "test\\ribut\\32\\landmarks created\n",
      "test\\tandas\\01\\landmarks created\n",
      "test\\tandas\\02\\landmarks created\n",
      "test\\tandas\\03\\landmarks created\n",
      "test\\tandas\\04\\landmarks created\n",
      "test\\tandas\\05\\landmarks created\n",
      "test\\tandas\\06\\landmarks created\n",
      "test\\tandas\\07\\landmarks created\n",
      "test\\tandas\\08\\landmarks created\n",
      "test\\tandas\\09\\landmarks created\n",
      "test\\tandas\\10\\landmarks created\n",
      "test\\tandas\\11\\landmarks created\n",
      "test\\tandas\\12\\landmarks created\n",
      "test\\tandas\\13\\landmarks created\n",
      "test\\tandas\\14\\landmarks created\n",
      "test\\tandas\\15\\landmarks created\n",
      "test\\tandas\\16\\landmarks created\n",
      "test\\tandas\\17\\landmarks created\n",
      "test\\tandas\\18\\landmarks created\n",
      "test\\tandas\\19\\landmarks created\n",
      "test\\tandas\\20\\landmarks created\n",
      "test\\tandas\\21\\landmarks created\n",
      "test\\tandas\\22\\landmarks created\n",
      "test\\tandas\\23\\landmarks created\n",
      "test\\tandas\\24\\landmarks created\n",
      "test\\tandas\\25\\landmarks created\n",
      "test\\tandas\\26\\landmarks created\n",
      "test\\tandas\\27\\landmarks created\n",
      "test\\tandas\\28\\landmarks created\n",
      "test\\tandas\\29\\landmarks created\n",
      "test\\tandas\\30\\landmarks created\n",
      "test\\tandas\\31\\landmarks created\n",
      "test\\tandas\\32\\landmarks created\n",
      "test\\tandas\\33\\landmarks created\n"
     ]
    }
   ],
   "source": [
    "# Create landmark folder\n",
    "for gestures in gesture_folder:\n",
    "    gesture = []\n",
    "\n",
    "    for fname in os.listdir(os.path.join(video_directory, gestures)):\n",
    "        path = os.path.join(video_directory, gestures, fname)\n",
    "        if os.path.isdir(path):\n",
    "            continue\n",
    "        else:\n",
    "            ges = os.path.splitext(fname)[0]\n",
    "            gesture.append(ges)\n",
    "            \n",
    "    for ges in gesture:\n",
    "        file = os.path.splitext(ges)\n",
    "        pre_path = os.path.join(video_directory, gestures, file[0])\n",
    "        landmark_path = os.path.join(video_directory, gestures, file[0], 'landmarks')\n",
    "        npy_path = os.path.join(landmark_path, )\n",
    "                    \n",
    "        if not os.path.exists(landmark_path):\n",
    "            os.makedirs(landmark_path)\n",
    "            print(landmark_path + \" created\")\n",
    "        else:\n",
    "            print(landmark_path + \" already exists\")\n",
    "            # # if exist, delete folder and recreate the folder\n",
    "            # shutil.rmtree(pre_path, ignore_errors=True)\n",
    "            # os.makedirs(landmark_path)\n",
    "            # print(\"Exisiting \" + landmark_path + \" deleted and recreated\")"
   ]
  },
  {
   "cell_type": "code",
   "execution_count": 54,
   "metadata": {},
   "outputs": [
    {
     "name": "stdout",
     "output_type": "stream",
     "text": [
      "['test\\\\payung\\\\01', 'test\\\\payung\\\\02', 'test\\\\payung\\\\03', 'test\\\\payung\\\\04', 'test\\\\payung\\\\05', 'test\\\\payung\\\\06', 'test\\\\payung\\\\07', 'test\\\\payung\\\\08', 'test\\\\payung\\\\09', 'test\\\\payung\\\\10', 'test\\\\payung\\\\11', 'test\\\\payung\\\\12', 'test\\\\payung\\\\13', 'test\\\\payung\\\\14', 'test\\\\payung\\\\15', 'test\\\\payung\\\\16', 'test\\\\payung\\\\17', 'test\\\\payung\\\\18', 'test\\\\payung\\\\19', 'test\\\\payung\\\\20', 'test\\\\payung\\\\21', 'test\\\\payung\\\\22', 'test\\\\payung\\\\23', 'test\\\\payung\\\\24', 'test\\\\payung\\\\25', 'test\\\\payung\\\\26', 'test\\\\payung\\\\27', 'test\\\\payung\\\\28', 'test\\\\payung\\\\29', 'test\\\\payung\\\\30', 'test\\\\payung\\\\31', 'test\\\\payung\\\\32', 'test\\\\payung\\\\33', 'test\\\\payung\\\\34', 'test\\\\ribut\\\\01', 'test\\\\ribut\\\\02', 'test\\\\ribut\\\\03', 'test\\\\ribut\\\\04', 'test\\\\ribut\\\\05', 'test\\\\ribut\\\\06', 'test\\\\ribut\\\\07', 'test\\\\ribut\\\\08', 'test\\\\ribut\\\\09', 'test\\\\ribut\\\\10', 'test\\\\ribut\\\\11', 'test\\\\ribut\\\\12', 'test\\\\ribut\\\\13', 'test\\\\ribut\\\\14', 'test\\\\ribut\\\\15', 'test\\\\ribut\\\\16', 'test\\\\ribut\\\\17', 'test\\\\ribut\\\\18', 'test\\\\ribut\\\\19', 'test\\\\ribut\\\\20', 'test\\\\ribut\\\\21', 'test\\\\ribut\\\\22', 'test\\\\ribut\\\\23', 'test\\\\ribut\\\\24', 'test\\\\ribut\\\\25', 'test\\\\ribut\\\\26', 'test\\\\ribut\\\\27', 'test\\\\ribut\\\\28', 'test\\\\ribut\\\\29', 'test\\\\ribut\\\\30', 'test\\\\ribut\\\\31', 'test\\\\ribut\\\\32', 'test\\\\tandas\\\\01', 'test\\\\tandas\\\\02', 'test\\\\tandas\\\\03', 'test\\\\tandas\\\\04', 'test\\\\tandas\\\\05', 'test\\\\tandas\\\\06', 'test\\\\tandas\\\\07', 'test\\\\tandas\\\\08', 'test\\\\tandas\\\\09', 'test\\\\tandas\\\\10', 'test\\\\tandas\\\\11', 'test\\\\tandas\\\\12', 'test\\\\tandas\\\\13', 'test\\\\tandas\\\\14', 'test\\\\tandas\\\\15', 'test\\\\tandas\\\\16', 'test\\\\tandas\\\\17', 'test\\\\tandas\\\\18', 'test\\\\tandas\\\\19', 'test\\\\tandas\\\\20', 'test\\\\tandas\\\\21', 'test\\\\tandas\\\\22', 'test\\\\tandas\\\\23', 'test\\\\tandas\\\\24', 'test\\\\tandas\\\\25', 'test\\\\tandas\\\\26', 'test\\\\tandas\\\\27', 'test\\\\tandas\\\\28', 'test\\\\tandas\\\\29', 'test\\\\tandas\\\\30', 'test\\\\tandas\\\\31', 'test\\\\tandas\\\\32', 'test\\\\tandas\\\\33']\n"
     ]
    }
   ],
   "source": [
    "# Create save location array\n",
    "save_location_arr = []\n",
    "\n",
    "for gestures in gesture_folder:\n",
    "    gesture = []\n",
    "\n",
    "    for fname in os.listdir(os.path.join(video_directory, gestures)):\n",
    "        path = os.path.join(video_directory, gestures, fname)\n",
    "        if os.path.isdir(path):\n",
    "            continue\n",
    "        else:\n",
    "            ges = os.path.splitext(fname)[0]\n",
    "            gesture.append(ges)\n",
    "            \n",
    "    for ges in gesture:\n",
    "        file = os.path.splitext(ges)\n",
    "        save_location_arr.append(os.path.join(video_directory, gestures, file[0]))\n",
    "\n",
    "print(save_location_arr)"
   ]
  },
  {
   "cell_type": "code",
   "execution_count": 55,
   "metadata": {},
   "outputs": [
    {
     "name": "stdout",
     "output_type": "stream",
     "text": [
      "['test\\\\payung\\\\01.mp4', 'test\\\\payung\\\\02.mp4', 'test\\\\payung\\\\03.mp4', 'test\\\\payung\\\\04.mp4', 'test\\\\payung\\\\05.mp4', 'test\\\\payung\\\\06.mp4', 'test\\\\payung\\\\07.mp4', 'test\\\\payung\\\\08.mp4', 'test\\\\payung\\\\09.mp4', 'test\\\\payung\\\\10.mp4', 'test\\\\payung\\\\11.mp4', 'test\\\\payung\\\\12.mp4', 'test\\\\payung\\\\13.mp4', 'test\\\\payung\\\\14.mp4', 'test\\\\payung\\\\15.mp4', 'test\\\\payung\\\\16.mp4', 'test\\\\payung\\\\17.mp4', 'test\\\\payung\\\\18.mp4', 'test\\\\payung\\\\19.mp4', 'test\\\\payung\\\\20.mp4', 'test\\\\payung\\\\21.mp4', 'test\\\\payung\\\\22.mp4', 'test\\\\payung\\\\23.mp4', 'test\\\\payung\\\\24.mp4', 'test\\\\payung\\\\25.mp4', 'test\\\\payung\\\\26.mp4', 'test\\\\payung\\\\27.mp4', 'test\\\\payung\\\\28.mp4', 'test\\\\payung\\\\29.mp4', 'test\\\\payung\\\\30.mp4', 'test\\\\payung\\\\31.mp4', 'test\\\\payung\\\\32.mp4', 'test\\\\payung\\\\33.mp4', 'test\\\\payung\\\\34.mp4', 'test\\\\ribut\\\\01.mp4', 'test\\\\ribut\\\\02.mp4', 'test\\\\ribut\\\\03.mp4', 'test\\\\ribut\\\\04.mp4', 'test\\\\ribut\\\\05.mp4', 'test\\\\ribut\\\\06.mp4', 'test\\\\ribut\\\\07.mp4', 'test\\\\ribut\\\\08.mp4', 'test\\\\ribut\\\\09.mp4', 'test\\\\ribut\\\\10.mp4', 'test\\\\ribut\\\\11.mp4', 'test\\\\ribut\\\\12.mp4', 'test\\\\ribut\\\\13.mp4', 'test\\\\ribut\\\\14.mp4', 'test\\\\ribut\\\\15.mp4', 'test\\\\ribut\\\\16.mp4', 'test\\\\ribut\\\\17.mp4', 'test\\\\ribut\\\\18.mp4', 'test\\\\ribut\\\\19.mp4', 'test\\\\ribut\\\\20.mp4', 'test\\\\ribut\\\\21.mp4', 'test\\\\ribut\\\\22.mp4', 'test\\\\ribut\\\\23.mp4', 'test\\\\ribut\\\\24.mp4', 'test\\\\ribut\\\\25.mp4', 'test\\\\ribut\\\\26.mp4', 'test\\\\ribut\\\\27.mp4', 'test\\\\ribut\\\\28.mp4', 'test\\\\ribut\\\\29.mp4', 'test\\\\ribut\\\\30.mp4', 'test\\\\ribut\\\\31.mp4', 'test\\\\ribut\\\\32.mp4', 'test\\\\tandas\\\\01.mp4', 'test\\\\tandas\\\\02.mp4', 'test\\\\tandas\\\\03.mp4', 'test\\\\tandas\\\\04.mp4', 'test\\\\tandas\\\\05.mp4', 'test\\\\tandas\\\\06.mp4', 'test\\\\tandas\\\\07.mp4', 'test\\\\tandas\\\\08.mp4', 'test\\\\tandas\\\\09.mp4', 'test\\\\tandas\\\\10.mp4', 'test\\\\tandas\\\\11.mp4', 'test\\\\tandas\\\\12.mp4', 'test\\\\tandas\\\\13.mp4', 'test\\\\tandas\\\\14.mp4', 'test\\\\tandas\\\\15.mp4', 'test\\\\tandas\\\\16.mp4', 'test\\\\tandas\\\\17.mp4', 'test\\\\tandas\\\\18.mp4', 'test\\\\tandas\\\\19.mp4', 'test\\\\tandas\\\\20.mp4', 'test\\\\tandas\\\\21.mp4', 'test\\\\tandas\\\\22.mp4', 'test\\\\tandas\\\\23.mp4', 'test\\\\tandas\\\\24.mp4', 'test\\\\tandas\\\\25.mp4', 'test\\\\tandas\\\\26.mp4', 'test\\\\tandas\\\\27.mp4', 'test\\\\tandas\\\\28.mp4', 'test\\\\tandas\\\\29.mp4', 'test\\\\tandas\\\\30.mp4', 'test\\\\tandas\\\\31.mp4', 'test\\\\tandas\\\\32.mp4', 'test\\\\tandas\\\\33.mp4']\n"
     ]
    }
   ],
   "source": [
    "# Video Path array\n",
    "video_path_arr = []\n",
    "\n",
    "for gestures in gesture_folder:\n",
    "    gesture = []\n",
    "\n",
    "    for fname in os.listdir(os.path.join(video_directory, gestures)):\n",
    "        path = os.path.join(video_directory, gestures, fname)\n",
    "        if os.path.isdir(path):\n",
    "            continue\n",
    "        else:\n",
    "            ges = os.path.splitext(fname)[0]\n",
    "            gesture.append(ges)\n",
    "            \n",
    "    for ges in gesture:\n",
    "        file = os.path.splitext(ges)\n",
    "        video_path_arr.append(os.path.join(video_directory, gestures, file[0] + '.mp4'))\n",
    "\n",
    "print(video_path_arr)"
   ]
  },
  {
   "cell_type": "code",
   "execution_count": 56,
   "metadata": {},
   "outputs": [],
   "source": [
    "for video_path in video_path_arr:\n",
    "    video = cv2.VideoCapture(video_path)\n",
    "\n",
    "    frame_count = 0\n",
    "\n",
    "    while video.isOpened():\n",
    "        ret, frame = video.read()\n",
    "\n",
    "        if not ret:\n",
    "            break\n",
    "\n",
    "        frame_count += 1\n",
    "\n",
    "    video.release()\n",
    "    cv2.destroyAllWindows()\n",
    "\n",
    "    # If frame_count > 30, print video path\n",
    "    if frame_count > 30:\n",
    "        extra = frame_count - 30\n",
    "        print(video_path + \" exceeds by \" + str(extra) + \" frames\")\n",
    "    if frame_count < 30:\n",
    "        extra = frame_count - 30\n",
    "        print(video_path + \" not enough \" + str(extra) + \" frames\")"
   ]
  }
 ],
 "metadata": {
  "kernelspec": {
   "display_name": "Python 3",
   "language": "python",
   "name": "python3"
  },
  "language_info": {
   "codemirror_mode": {
    "name": "ipython",
    "version": 3
   },
   "file_extension": ".py",
   "mimetype": "text/x-python",
   "name": "python",
   "nbconvert_exporter": "python",
   "pygments_lexer": "ipython3",
   "version": "3.10.14"
  }
 },
 "nbformat": 4,
 "nbformat_minor": 2
}
