{
 "cells": [
  {
   "cell_type": "code",
   "execution_count": 12,
   "metadata": {},
   "outputs": [],
   "source": [
    "import os\n",
    "import numpy as np\n",
    "import shutil"
   ]
  },
  {
   "cell_type": "code",
   "execution_count": 13,
   "metadata": {},
   "outputs": [],
   "source": [
    "def load_keypoints(folder_path):\n",
    "    \"\"\"\n",
    "    Load the keypoints from a given file path.\n",
    "    \n",
    "    Parameters:\n",
    "    path (str): Path to the .npy file containing the keypoints.\n",
    "    \n",
    "    Returns:\n",
    "    list of np.ndarray: List of frames where each frame is a numpy array representing keypoints.\n",
    "    \"\"\"\n",
    "    frames_keypoints = []\n",
    "\n",
    "    files = [f for f in os.listdir(folder_path) if f.endswith('.npy')]\n",
    "    # print(files)\n",
    "\n",
    "    # arrange files in ascending order\n",
    "    files.sort(key=lambda f: int(''.join(filter(str.isdigit, f))))\n",
    "    print(files)\n",
    "\n",
    "    # Load the keypoints from the .npy file\n",
    "    for file in files:\n",
    "        file_path = os.path.join(folder_path, file)\n",
    "        frame_keypoints = np.load(file_path)\n",
    "        frames_keypoints.append(frame_keypoints)\n",
    "\n",
    "    return frames_keypoints"
   ]
  },
  {
   "cell_type": "code",
   "execution_count": 14,
   "metadata": {},
   "outputs": [],
   "source": [
    "def save_keypoints(frames_keypoints, folder_path):\n",
    "    \"\"\"\n",
    "    Save the keypoints to a given file path.\n",
    "    \n",
    "    Parameters:\n",
    "    frames_keypoints (list of np.ndarray): List of frames where each frame is a numpy array representing keypoints.\n",
    "    folder_path (str): Path to the folder where the keypoints will be saved.\n",
    "    \"\"\"\n",
    "    if not os.path.exists(folder_path):\n",
    "        os.makedirs(folder_path)\n",
    "    else:\n",
    "        # if exist, delete folder and recreate the folder\n",
    "        shutil.rmtree(folder_path, ignore_errors=True)\n",
    "        os.makedirs(folder_path)\n",
    "\n",
    "    for i, frame_keypoints in enumerate(frames_keypoints):\n",
    "        file_path = os.path.join(folder_path, f'{i + 1}.npy')\n",
    "        np.save(file_path, frame_keypoints)"
   ]
  },
  {
   "cell_type": "markdown",
   "metadata": {},
   "source": [
    "##### Remove left hand keypoints"
   ]
  },
  {
   "cell_type": "code",
   "execution_count": 15,
   "metadata": {},
   "outputs": [],
   "source": [
    "def remove_left_hand_data(frames_keypoints, save_path):\n",
    "    # Remove hand data\n",
    "    for keypoints in frames_keypoints:\n",
    "        left_hand_keypoints = keypoints[33*4:33*4+21*3]   # Extract left hand keypoints\n",
    "        left_hand_keypoints = np.zeros_like(left_hand_keypoints)  # Set left hand keypoints to zero\n",
    "        keypoints[33*4:33*4+21*3] = left_hand_keypoints\n",
    "\n",
    "    save_keypoints(frames_keypoints, save_path)"
   ]
  },
  {
   "cell_type": "markdown",
   "metadata": {},
   "source": [
    "##### Remove right hand keypoints"
   ]
  },
  {
   "cell_type": "code",
   "execution_count": 68,
   "metadata": {},
   "outputs": [],
   "source": [
    "def remove_right_hand_data(frames_keypoints, save_path):\n",
    "    # Remove hand data\n",
    "    for keypoints in frames_keypoints:\n",
    "        right_hand_keypoints = keypoints[33*4+21*3:]  # Extract right hand keypoints\n",
    "        right_hand_keypoints = np.zeros_like(right_hand_keypoints)  # Set right hand keypoints to zero\n",
    "        keypoints[33*4+21*3:]  = right_hand_keypoints\n",
    "\n",
    "    save_keypoints(frames_keypoints, save_path)"
   ]
  },
  {
   "cell_type": "markdown",
   "metadata": {},
   "source": [
    "##### To Run"
   ]
  },
  {
   "cell_type": "code",
   "execution_count": 26,
   "metadata": {},
   "outputs": [
    {
     "data": {
      "text/plain": [
       "'\\nTo Remove Hand Data\\nleft\\nambil: 01, 02, 03, 06, 20, 21, 24, 26\\nbeli: 05\\nberapa: 23 27\\ndatuk: 24\\nduit: 15\\nesok: 14\\nhospital: 20, 23, 24, 29\\nibu: 13, 14, 34, 37, 43\\nkafeteria: 13, 17, 18, 22, 25, 26\\nkakak: 36\\nlelaki: 37\\nmakan: 19, 32\\nmarah: 10, 15, 21, 23\\nmari: 10\\nminum: 21\\nnasi: 10\\nnenek: 06\\npanas2: 01, 04, 07, 09, 10, 20\\npadai2: 17\\npen: 32, 36, 42\\nperempuan: 41, 54, 55\\npergi: 04, 05, 12\\nperlahan: 14, 17\\npukul: 03, 16\\nterima_kasih: 03, 11, 13, 14, 15, 28\\ntidur: 05\\ntolong: 07\\n'"
      ]
     },
     "execution_count": 26,
     "metadata": {},
     "output_type": "execute_result"
    }
   ],
   "source": [
    "'''\n",
    "To Remove Hand Data\n",
    "left\n",
    "ambil: 01, 02, 03, 06, 20, 21, 24, 26\n",
    "beli: 05\n",
    "berapa: 23 27\n",
    "datuk: 24\n",
    "duit: 15\n",
    "esok: 14\n",
    "hospital: 20, 23, 24, 29\n",
    "ibu: 13, 14, 34, 37, 43\n",
    "kafeteria: 13, 17, 18, 22, 25, 26\n",
    "kakak: 36\n",
    "lelaki: 37\n",
    "makan: 19, 32\n",
    "marah: 10, 15, 21, 23\n",
    "mari: 10\n",
    "minum: 21\n",
    "nasi: 10\n",
    "nenek: 06\n",
    "panas2: 01, 04, 07, 09, 10, 20\n",
    "padai2: 17\n",
    "pen: 32, 36, 42\n",
    "perempuan: 41, 54, 55\n",
    "pergi: 04, 05, 12\n",
    "perlahan: 14, 17\n",
    "pukul: 03, 16\n",
    "terima_kasih: 03, 11, 13, 14, 15, 28\n",
    "tidur: 05\n",
    "tolong: 07\n",
    "'''"
   ]
  },
  {
   "cell_type": "code",
   "execution_count": 62,
   "metadata": {},
   "outputs": [
    {
     "name": "stdout",
     "output_type": "stream",
     "text": [
      "['1.npy', '2.npy', '3.npy', '4.npy', '5.npy', '6.npy', '7.npy', '8.npy', '9.npy', '10.npy', '11.npy', '12.npy', '13.npy', '14.npy', '15.npy', '16.npy', '17.npy', '18.npy', '19.npy', '20.npy', '21.npy', '22.npy', '23.npy', '24.npy', '25.npy', '26.npy', '27.npy', '28.npy', '29.npy', '30.npy']\n"
     ]
    }
   ],
   "source": [
    "folder = 'Train'\n",
    "gesture = 'tolong'\n",
    "file = ['07']\n",
    "\n",
    "for file in file:\n",
    "    file_path = f'{folder}/{gesture}/{file}'\n",
    "    remove_left_hand_data(load_keypoints(file_path), f'Train_3/{gesture}/{file}')"
   ]
  },
  {
   "cell_type": "code",
   "execution_count": 25,
   "metadata": {},
   "outputs": [
    {
     "data": {
      "text/plain": [
       "'\\nright\\nhospital: 19\\npanas: 19\\npukul: 04\\n'"
      ]
     },
     "execution_count": 25,
     "metadata": {},
     "output_type": "execute_result"
    }
   ],
   "source": [
    "'''\n",
    "right\n",
    "hospital: 19\n",
    "panas: 19\n",
    "pukul: 04\n",
    "'''"
   ]
  },
  {
   "cell_type": "code",
   "execution_count": 70,
   "metadata": {},
   "outputs": [
    {
     "name": "stdout",
     "output_type": "stream",
     "text": [
      "['1.npy', '2.npy', '3.npy', '4.npy', '5.npy', '6.npy', '7.npy', '8.npy', '9.npy', '10.npy', '11.npy', '12.npy', '13.npy', '14.npy', '15.npy', '16.npy', '17.npy', '18.npy', '19.npy', '20.npy', '21.npy', '22.npy', '23.npy', '24.npy', '25.npy', '26.npy', '27.npy', '28.npy', '29.npy', '30.npy']\n"
     ]
    }
   ],
   "source": [
    "folder = 'Train'\n",
    "gesture = 'panas'\n",
    "file = ['19']\n",
    "\n",
    "for file in file:\n",
    "    file_path = f'{folder}/{gesture}/{file}'\n",
    "    remove_right_hand_data(load_keypoints(file_path), f'Train_3/{gesture}/{file}')"
   ]
  }
 ],
 "metadata": {
  "kernelspec": {
   "display_name": "Python 3",
   "language": "python",
   "name": "python3"
  },
  "language_info": {
   "codemirror_mode": {
    "name": "ipython",
    "version": 3
   },
   "file_extension": ".py",
   "mimetype": "text/x-python",
   "name": "python",
   "nbconvert_exporter": "python",
   "pygments_lexer": "ipython3",
   "version": "3.10.14"
  }
 },
 "nbformat": 4,
 "nbformat_minor": 2
}
